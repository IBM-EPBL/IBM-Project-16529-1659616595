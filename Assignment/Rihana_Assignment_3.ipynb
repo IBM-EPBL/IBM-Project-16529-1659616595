{
  "nbformat": 4,
  "nbformat_minor": 0,
  "metadata": {
    "colab": {
      "provenance": []
    },
    "kernelspec": {
      "name": "python3",
      "display_name": "Python 3"
    },
    "language_info": {
      "name": "python"
    }
  },
  "cells": [
    {
      "cell_type": "code",
      "execution_count": null,
      "metadata": {
        "colab": {
          "base_uri": "https://localhost:8080/"
        },
        "id": "IVAm3DXscrZ-",
        "outputId": "28fb9224-cb94-4c34-e453-cbfa68b31566"
      },
      "outputs": [
        {
          "output_type": "stream",
          "name": "stdout",
          "text": [
            "\u001b[0m\u001b[01;34msample_data\u001b[0m/\n"
          ]
        }
      ],
      "source": [
        "ls"
      ]
    },
    {
      "cell_type": "code",
      "source": [
        "from google.colab import drive\n",
        "drive.mount('/content/drive')"
      ],
      "metadata": {
        "colab": {
          "base_uri": "https://localhost:8080/"
        },
        "id": "vPGbIo0xj7OU",
        "outputId": "5c7d2e30-24b3-4ea7-cf5e-dae82c642310"
      },
      "execution_count": null,
      "outputs": [
        {
          "output_type": "stream",
          "name": "stdout",
          "text": [
            "Mounted at /content/drive\n"
          ]
        }
      ]
    },
    {
      "cell_type": "code",
      "source": [
        "cd/content/drive/MyDrive/flowers dataset"
      ],
      "metadata": {
        "colab": {
          "base_uri": "https://localhost:8080/"
        },
        "id": "4kXAjpEwrYhh",
        "outputId": "97c46e03-6e96-4f4a-a32f-45e69adbf0e2"
      },
      "execution_count": null,
      "outputs": [
        {
          "output_type": "stream",
          "name": "stdout",
          "text": [
            "/content/drive/MyDrive/flowers dataset\n"
          ]
        }
      ]
    },
    {
      "cell_type": "code",
      "source": [
        "ls"
      ],
      "metadata": {
        "colab": {
          "base_uri": "https://localhost:8080/"
        },
        "id": "xIBu-vW7t6TO",
        "outputId": "6fed4799-fa5b-4f99-fee5-164b432c3108"
      },
      "execution_count": null,
      "outputs": [
        {
          "output_type": "stream",
          "name": "stdout",
          "text": [
            "\u001b[0m\u001b[01;34mFlowers-Dataset\u001b[0m/\n"
          ]
        }
      ]
    },
    {
      "cell_type": "code",
      "source": [
        "pwd"
      ],
      "metadata": {
        "colab": {
          "base_uri": "https://localhost:8080/",
          "height": 36
        },
        "id": "S5ferDm7t_C_",
        "outputId": "18fcca3f-9a00-4968-f922-e93051beeb1e"
      },
      "execution_count": null,
      "outputs": [
        {
          "output_type": "execute_result",
          "data": {
            "text/plain": [
              "'/content/drive/MyDrive/flowers dataset'"
            ],
            "application/vnd.google.colaboratory.intrinsic+json": {
              "type": "string"
            }
          },
          "metadata": {},
          "execution_count": 8
        }
      ]
    },
    {
      "cell_type": "code",
      "source": [
        "from tensorflow.keras.preprocessing.image import ImageDataGenerator"
      ],
      "metadata": {
        "id": "mavwWS11um7m"
      },
      "execution_count": null,
      "outputs": []
    },
    {
      "cell_type": "code",
      "source": [
        "train_datagen = ImageDataGenerator(rescale= 1./255,horizontal_flip = True,vertical_flip = True,zoom_range = 0.2)"
      ],
      "metadata": {
        "id": "XH0OLQSMusZ7"
      },
      "execution_count": null,
      "outputs": []
    },
    {
      "cell_type": "code",
      "source": [
        "test_datagen = ImageDataGenerator(rescale= 1./255)"
      ],
      "metadata": {
        "id": "ub7O-QWZusYG"
      },
      "execution_count": null,
      "outputs": []
    },
    {
      "cell_type": "code",
      "source": [
        "x_train=train_datagen.flow_from_directory(r\"/content/drive/MyDrive/flowers dataset/Flowers-Dataset\",target_size = (64,64),\n",
        "                                            class_mode = \"categorical\",batch_size = 24)"
      ],
      "metadata": {
        "colab": {
          "base_uri": "https://localhost:8080/"
        },
        "id": "YILqdjDcvEbn",
        "outputId": "f0ec1428-dbac-48dd-ba7c-f902eec13dfc"
      },
      "execution_count": null,
      "outputs": [
        {
          "output_type": "stream",
          "name": "stdout",
          "text": [
            "Found 3174 images belonging to 1 classes.\n"
          ]
        }
      ]
    },
    {
      "cell_type": "markdown",
      "source": [
        "Model"
      ],
      "metadata": {
        "id": "42j-GDMZ6erq"
      }
    },
    {
      "cell_type": "code",
      "source": [
        "from tensorflow.keras.models import Sequential\n",
        "from tensorflow.keras.layers import Convolution2D,MaxPooling2D,Flatten,Dense"
      ],
      "metadata": {
        "id": "ryqjR_0NwNnX"
      },
      "execution_count": null,
      "outputs": []
    },
    {
      "cell_type": "code",
      "source": [
        "model = Sequential()"
      ],
      "metadata": {
        "id": "qJ4ivzXrwWmW"
      },
      "execution_count": null,
      "outputs": []
    },
    {
      "cell_type": "code",
      "source": [
        "model.add(Convolution2D(32,(3,3),activation = \"relu\",input_shape = (64,64,3)))"
      ],
      "metadata": {
        "id": "F9WTp1BhxNmd"
      },
      "execution_count": null,
      "outputs": []
    },
    {
      "cell_type": "code",
      "source": [
        "model.add(MaxPooling2D(pool_size = (2,2)))"
      ],
      "metadata": {
        "id": "t-rQVA8JzCY3"
      },
      "execution_count": null,
      "outputs": []
    },
    {
      "cell_type": "code",
      "source": [
        "model.add(Flatten())"
      ],
      "metadata": {
        "id": "mbVuqvVXzK6Q"
      },
      "execution_count": null,
      "outputs": []
    },
    {
      "cell_type": "code",
      "source": [
        "model.add(Dense(300, activation='relu'))"
      ],
      "metadata": {
        "id": "P0CHk4flzSLI"
      },
      "execution_count": null,
      "outputs": []
    },
    {
      "cell_type": "code",
      "source": [
        "model.add(Dense(5,activation='softmax'))"
      ],
      "metadata": {
        "id": "SWWvBbPtzZ53"
      },
      "execution_count": null,
      "outputs": []
    },
    {
      "cell_type": "code",
      "source": [
        "model.compile(loss=\"categorical_crossentropy\", metrics=[\"accuracy\"], optimizer='adam')"
      ],
      "metadata": {
        "id": "NZ1ssaNkzfKk"
      },
      "execution_count": null,
      "outputs": []
    },
    {
      "cell_type": "code",
      "source": [
        "len(x_train)"
      ],
      "metadata": {
        "colab": {
          "base_uri": "https://localhost:8080/"
        },
        "id": "O8K4cg6_zpxn",
        "outputId": "2fdc4ca4-f30e-4a42-af7c-971bdda18876"
      },
      "execution_count": null,
      "outputs": [
        {
          "output_type": "execute_result",
          "data": {
            "text/plain": [
              "133"
            ]
          },
          "metadata": {},
          "execution_count": 23
        }
      ]
    },
    {
      "cell_type": "code",
      "source": [
        "model.fit(x_train, epochs = 5, validation_data=x_test, steps_per_epoch=len(x_train), validation_steps=len(x_test))"
      ],
      "metadata": {
        "colab": {
          "base_uri": "https://localhost:8080/"
        },
        "id": "4rj1QNhvztgA",
        "outputId": "7079b9ca-348d-4d9b-e1f5-27c2bc086db0"
      },
      "execution_count": null,
      "outputs": [
        {
          "output_type": "stream",
          "name": "stdout",
          "text": [
            "Epoch 1/5\n",
            "133/133 [==============================] - 926s 7s/step - loss: 906.1675 - accuracy: 0.1525 - val_loss: 2927.3755 - val_accuracy: 0.0000e+00\n",
            "Epoch 2/5\n",
            "133/133 [==============================] - 50s 377ms/step - loss: 7053.3022 - accuracy: 0.2127 - val_loss: 12252.8994 - val_accuracy: 0.0000e+00\n",
            "Epoch 3/5\n",
            "133/133 [==============================] - 48s 362ms/step - loss: 24186.1348 - accuracy: 0.1953 - val_loss: 25751.0488 - val_accuracy: 0.0000e+00\n",
            "Epoch 4/5\n",
            "133/133 [==============================] - 49s 365ms/step - loss: 49849.6602 - accuracy: 0.2038 - val_loss: 43352.0664 - val_accuracy: 1.0000\n",
            "Epoch 5/5\n",
            "133/133 [==============================] - 50s 379ms/step - loss: 97967.2656 - accuracy: 0.2042 - val_loss: 106847.7969 - val_accuracy: 0.0000e+00\n"
          ]
        },
        {
          "output_type": "execute_result",
          "data": {
            "text/plain": [
              "<keras.callbacks.History at 0x7f6b1b6a9950>"
            ]
          },
          "metadata": {},
          "execution_count": 24
        }
      ]
    },
    {
      "cell_type": "code",
      "source": [
        "model.save(\"flowers.h5\")"
      ],
      "metadata": {
        "id": "eBoUlFnaz3tA"
      },
      "execution_count": null,
      "outputs": []
    },
    {
      "cell_type": "markdown",
      "source": [
        "#testing of the model"
      ],
      "metadata": {
        "id": "DvSLqsLE5rnx"
      }
    },
    {
      "cell_type": "code",
      "source": [
        "from tensorflow.keras.models import load_model\n",
        "from tensorflow.keras.preprocessing import image\n",
        "import numpy as np"
      ],
      "metadata": {
        "id": "dvPAYz0H5xnL"
      },
      "execution_count": null,
      "outputs": []
    },
    {
      "cell_type": "code",
      "source": [
        "model=load_model(\"/content/drive/MyDrive/flowers dataset/flowers.h5\")"
      ],
      "metadata": {
        "id": "iaouFQI46vOa"
      },
      "execution_count": null,
      "outputs": []
    },
    {
      "cell_type": "code",
      "source": [
        "img=image.load_img(\"/content/drive/MyDrive/flowers dataset/Flowers-Dataset/flowers/rose/174109630_3c544b8a2f.jpg\",target_size=(64,64))"
      ],
      "metadata": {
        "id": "6VF4ysk-7s28"
      },
      "execution_count": null,
      "outputs": []
    },
    {
      "cell_type": "code",
      "source": [
        "img"
      ],
      "metadata": {
        "colab": {
          "base_uri": "https://localhost:8080/",
          "height": 81
        },
        "id": "o7zF8RiN78iK",
        "outputId": "27ff5719-0986-41a5-d43c-26c0ce2ace5b"
      },
      "execution_count": null,
      "outputs": [
        {
          "output_type": "execute_result",
          "data": {
            "text/plain": [
              "<PIL.Image.Image image mode=RGB size=64x64 at 0x7F6B1AD93310>"
            ],
            "image/png": "[encoded data removed]"
          },
          "metadata": {},
          "execution_count": 30
        }
      ]
    },
    {
      "cell_type": "code",
      "source": [
        "x = image.img_to_array(img)"
      ],
      "metadata": {
        "id": "ifawY_MN8B6K"
      },
      "execution_count": null,
      "outputs": []
    },
    {
      "cell_type": "code",
      "source": [
        "x"
      ],
      "metadata": {
        "colab": {
          "base_uri": "https://localhost:8080/"
        },
        "id": "MB3WRIcT8J_K",
        "outputId": "488ccdef-bfa0-4799-f43f-72b653b42a82"
      },
      "execution_count": null,
      "outputs": [
        {
          "output_type": "execute_result",
          "data": {
            "text/plain": [
              "array([[[ 38.,  38.,  64.],\n",
              "        [ 44.,  47.,  28.],\n",
              "        [ 81.,  72.,  93.],\n",
              "        ...,\n",
              "        [ 19.,  24.,  30.],\n",
              "        [ 19.,  24.,  30.],\n",
              "        [ 18.,  21.,  28.]],\n",
              "\n",
              "       [[ 31.,  34.,  39.],\n",
              "        [178., 165., 174.],\n",
              "        [198., 192., 192.],\n",
              "        ...,\n",
              "        [ 17.,  22.,  28.],\n",
              "        [ 20.,  25.,  31.],\n",
              "        [ 17.,  20.,  27.]],\n",
              "\n",
              "       [[205., 204., 209.],\n",
              "        [222., 212., 210.],\n",
              "        [199., 187., 187.],\n",
              "        ...,\n",
              "        [ 21.,  26.,  32.],\n",
              "        [ 15.,  20.,  26.],\n",
              "        [ 18.,  21.,  26.]],\n",
              "\n",
              "       ...,\n",
              "\n",
              "       [[233., 234., 229.],\n",
              "        [235., 236., 231.],\n",
              "        [238., 239., 234.],\n",
              "        ...,\n",
              "        [121., 113., 102.],\n",
              "        [165., 165., 155.],\n",
              "        [148., 162., 139.]],\n",
              "\n",
              "       [[234., 235., 230.],\n",
              "        [235., 236., 231.],\n",
              "        [237., 238., 233.],\n",
              "        ...,\n",
              "        [187., 193., 179.],\n",
              "        [153., 156., 139.],\n",
              "        [118., 144., 157.]],\n",
              "\n",
              "       [[228., 229., 223.],\n",
              "        [231., 232., 226.],\n",
              "        [232., 233., 228.],\n",
              "        ...,\n",
              "        [198., 198., 188.],\n",
              "        [125., 127., 114.],\n",
              "        [117., 134., 126.]]], dtype=float32)"
            ]
          },
          "metadata": {},
          "execution_count": 32
        }
      ]
    },
    {
      "cell_type": "code",
      "source": [
        "x.ndim"
      ],
      "metadata": {
        "colab": {
          "base_uri": "https://localhost:8080/"
        },
        "id": "8A23rDqD8f_B",
        "outputId": "ba4437d6-405a-4e1a-a8fd-81d2522b7564"
      },
      "execution_count": null,
      "outputs": [
        {
          "output_type": "execute_result",
          "data": {
            "text/plain": [
              "3"
            ]
          },
          "metadata": {},
          "execution_count": 33
        }
      ]
    },
    {
      "cell_type": "code",
      "source": [
        "x=np.expand_dims(x,axis=0)"
      ],
      "metadata": {
        "id": "inA9_JeQ8nNS"
      },
      "execution_count": null,
      "outputs": []
    },
    {
      "cell_type": "code",
      "source": [
        "x.ndim"
      ],
      "metadata": {
        "colab": {
          "base_uri": "https://localhost:8080/"
        },
        "id": "YHxMFOqX9Bd8",
        "outputId": "0978e241-7464-4615-cc8b-a03b7dabf549"
      },
      "execution_count": null,
      "outputs": [
        {
          "output_type": "execute_result",
          "data": {
            "text/plain": [
              "4"
            ]
          },
          "metadata": {},
          "execution_count": 35
        }
      ]
    },
    {
      "cell_type": "code",
      "source": [
        "pred = model.predict(x)"
      ],
      "metadata": {
        "colab": {
          "base_uri": "https://localhost:8080/"
        },
        "id": "gIUKNtSH9F5T",
        "outputId": "a7c2e6c4-e267-42c5-9e51-b11d346a57de"
      },
      "execution_count": null,
      "outputs": [
        {
          "output_type": "stream",
          "name": "stdout",
          "text": [
            "1/1 [==============================] - 0s 104ms/step\n"
          ]
        }
      ]
    },
    {
      "cell_type": "code",
      "source": [
        "pred"
      ],
      "metadata": {
        "colab": {
          "base_uri": "https://localhost:8080/"
        },
        "id": "dlQ4ZQVm9QUj",
        "outputId": "7f51790a-d0a6-48a3-e1a3-9b761a9e2b91"
      },
      "execution_count": null,
      "outputs": [
        {
          "output_type": "execute_result",
          "data": {
            "text/plain": [
              "array([[0., 0., 1., 0., 0.]], dtype=float32)"
            ]
          },
          "metadata": {},
          "execution_count": 37
        }
      ]
    },
    {
      "cell_type": "code",
      "source": [
        "labels = [\"daisy\",\"dandelion\",\"rose\",\"sunflower\",\"tulip\"]"
      ],
      "metadata": {
        "id": "5saB7GrD9bSH"
      },
      "execution_count": null,
      "outputs": []
    },
    {
      "cell_type": "code",
      "source": [
        "np.argmax(pred)"
      ],
      "metadata": {
        "colab": {
          "base_uri": "https://localhost:8080/"
        },
        "id": "pqiwYjMu9bQq",
        "outputId": "b93c878b-eaf2-4dc2-afad-b784f978f64a"
      },
      "execution_count": null,
      "outputs": [
        {
          "output_type": "execute_result",
          "data": {
            "text/plain": [
              "2"
            ]
          },
          "metadata": {},
          "execution_count": 39
        }
      ]
    },
    {
      "cell_type": "code",
      "source": [
        "labels[np.argmax(pred)]"
      ],
      "metadata": {
        "colab": {
          "base_uri": "https://localhost:8080/",
          "height": 36
        },
        "id": "6y9pTDHQ9ljS",
        "outputId": "f96b5939-228d-4669-e6eb-6300b16dd710"
      },
      "execution_count": null,
      "outputs": [
        {
          "output_type": "execute_result",
          "data": {
            "text/plain": [
              "'rose'"
            ],
            "application/vnd.google.colaboratory.intrinsic+json": {
              "type": "string"
            }
          },
          "metadata": {},
          "execution_count": 40
        }
      ]
    }
  ]
}