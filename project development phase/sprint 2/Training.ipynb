{
  "nbformat": 4,
  "nbformat_minor": 0,
  "metadata": {
    "colab": {
      "provenance": []
    },
    "kernelspec": {
      "name": "python3",
      "display_name": "Python 3"
    },
    "language_info": {
      "name": "python"
    },
    "accelerator": "GPU",
    "gpuClass": "standard"
  },
  "cells": [
    {
      "cell_type": "markdown",
      "source": [
        "IBM- PNT2022TMID05694- Deep Learning Fundus Image Analysis For Early Detection Of Diabetic Retinopathy"
      ],
      "metadata": {
        "id": "EZ-Y_Bie9Ld_"
      }
    },
    {
      "cell_type": "code",
      "source": [
        "model.compile(\n",
        "  loss='categorical_crossentropy',\n",
        "  optimizer='adam',\n",
        "  metrics=['accuracy']\n",
        ")"
      ],
      "metadata": {
        "id": "1O01CWNXW_ml"
      },
      "execution_count": null,
      "outputs": []
    },
    {
      "cell_type": "code",
      "source": [
        "train_datagen = ImageDataGenerator(rescale = 1./255,\n",
        "                                   shear_range = 0.2,\n",
        "                                   zoom_range = 0.2,\n",
        "                                   horizontal_flip = True)\n",
        "\n",
        "test_datagen = ImageDataGenerator(rescale = 1./255)"
      ],
      "metadata": {
        "id": "yuxmQ1L0XHKy"
      },
      "execution_count": null,
      "outputs": []
    },
    {
      "cell_type": "code",
      "source": [
        "training_set = train_datagen.flow_from_directory('/Drive/MyDrive/ibm/preprocessed dataset/preprocessed dataset/training',\n",
        "                                                 target_size = (299, 299),\n",
        "                                                 batch_size = 32,\n",
        "                                                 class_mode = 'categorical')\n",
        "\n",
        "test_set = test_datagen.flow_from_directory('/Drive/MyDrive/ibm/preprocessed dataset/preprocessed dataset/testing',\n",
        "                                            target_size = (299, 299),\n",
        "                                            batch_size = 32,\n",
        "                                            class_mode = 'categorical')"
      ],
      "metadata": {
        "colab": {
          "base_uri": "https://localhost:8080/"
        },
        "id": "esTI-YJYXJko",
        "outputId": "fb4dbb49-2428-45c4-ff36-014f4e07d9bc"
      },
      "execution_count": null,
      "outputs": [
        {
          "output_type": "stream",
          "name": "stdout",
          "text": [
            "Found 3662 images belonging to 5 classes.\n",
            "Found 590 images belonging to 5 classes.\n"
          ]
        }
      ]
    },
    {
      "cell_type": "code",
      "source": [
        "r = model.fit_generator(\n",
        "  training_set,\n",
        "  validation_data=test_set,\n",
        "  epochs=30,\n",
        "  steps_per_epoch=len(training_set)//32,\n",
        "  validation_steps=len(test_set)//32\n",
        ")"
      ],
      "metadata": {
        "colab": {
          "base_uri": "https://localhost:8080/"
        },
        "id": "WNl6BLMMXMQP",
        "outputId": "cf8a8a3f-a70c-44bf-afd1-e13d4bee3fbd"
      },
      "execution_count": null,
      "outputs": [
        {
          "output_type": "stream",
          "name": "stderr",
          "text": [
            "/usr/local/lib/python3.7/dist-packages/ipykernel_launcher.py:6: UserWarning: `Model.fit_generator` is deprecated and will be removed in a future version. Please use `Model.fit`, which supports generators.\n",
            "  \n"
          ]
        },
        {
          "output_type": "stream",
          "name": "stdout",
          "text": [
            "Epoch 1/30\n",
            "3/3 [==============================] - 117s 40s/step - loss: 9.3656 - accuracy: 0.3646\n",
            "Epoch 2/30\n",
            "3/3 [==============================] - 78s 26s/step - loss: 10.3674 - accuracy: 0.5104\n",
            "Epoch 3/30\n",
            "3/3 [==============================] - 75s 25s/step - loss: 9.8752 - accuracy: 0.5729\n",
            "Epoch 4/30\n",
            "3/3 [==============================] - 77s 26s/step - loss: 5.8951 - accuracy: 0.5417\n",
            "Epoch 5/30\n",
            "3/3 [==============================] - 75s 25s/step - loss: 5.2364 - accuracy: 0.5833\n",
            "Epoch 6/30\n",
            "3/3 [==============================] - 75s 25s/step - loss: 4.1381 - accuracy: 0.6771\n",
            "Epoch 7/30\n",
            "3/3 [==============================] - 65s 21s/step - loss: 3.6492 - accuracy: 0.7396\n",
            "Epoch 8/30\n",
            "3/3 [==============================] - 66s 21s/step - loss: 3.1862 - accuracy: 0.6771\n",
            "Epoch 9/30\n",
            "3/3 [==============================] - 63s 22s/step - loss: 3.3781 - accuracy: 0.6354\n",
            "Epoch 10/30\n",
            "3/3 [==============================] - 68s 24s/step - loss: 2.3233 - accuracy: 0.7500\n",
            "Epoch 11/30\n",
            "3/3 [==============================] - 63s 20s/step - loss: 3.6007 - accuracy: 0.6354\n",
            "Epoch 12/30\n",
            "3/3 [==============================] - 68s 23s/step - loss: 3.3305 - accuracy: 0.6562\n",
            "Epoch 13/30\n",
            "3/3 [==============================] - 54s 16s/step - loss: 3.9570 - accuracy: 0.6146\n",
            "Epoch 14/30\n",
            "3/3 [==============================] - 45s 18s/step - loss: 4.5995 - accuracy: 0.7692\n",
            "Epoch 15/30\n",
            "3/3 [==============================] - 56s 19s/step - loss: 6.0824 - accuracy: 0.6042\n",
            "Epoch 16/30\n",
            "3/3 [==============================] - 55s 17s/step - loss: 2.9333 - accuracy: 0.7188\n",
            "Epoch 17/30\n",
            "3/3 [==============================] - 53s 19s/step - loss: 2.8182 - accuracy: 0.7292\n",
            "Epoch 18/30\n",
            "3/3 [==============================] - 57s 18s/step - loss: 3.1134 - accuracy: 0.7500\n",
            "Epoch 19/30\n",
            "3/3 [==============================] - 50s 18s/step - loss: 3.9203 - accuracy: 0.6875\n",
            "Epoch 20/30\n",
            "3/3 [==============================] - 46s 16s/step - loss: 3.0897 - accuracy: 0.6875\n",
            "Epoch 21/30\n",
            "3/3 [==============================] - 46s 17s/step - loss: 3.0195 - accuracy: 0.7083\n",
            "Epoch 22/30\n",
            "3/3 [==============================] - 48s 16s/step - loss: 2.6324 - accuracy: 0.7604\n",
            "Epoch 23/30\n",
            "3/3 [==============================] - 50s 17s/step - loss: 3.3978 - accuracy: 0.7083\n",
            "Epoch 24/30\n",
            "3/3 [==============================] - 45s 14s/step - loss: 3.6217 - accuracy: 0.7812\n",
            "Epoch 25/30\n",
            "3/3 [==============================] - 38s 13s/step - loss: 3.6250 - accuracy: 0.7083\n",
            "Epoch 26/30\n",
            "3/3 [==============================] - 47s 16s/step - loss: 2.9467 - accuracy: 0.6562\n",
            "Epoch 27/30\n",
            "3/3 [==============================] - 36s 13s/step - loss: 4.2931 - accuracy: 0.6458\n",
            "Epoch 28/30\n",
            "3/3 [==============================] - 46s 17s/step - loss: 2.4038 - accuracy: 0.7604\n",
            "Epoch 29/30\n",
            "3/3 [==============================] - 35s 11s/step - loss: 3.3180 - accuracy: 0.7292\n",
            "Epoch 30/30\n",
            "3/3 [==============================] - 34s 13s/step - loss: 5.3833 - accuracy: 0.6979\n"
          ]
        }
      ]
    },
    {
      "cell_type": "code",
      "source": [
        "model.save('Updated-Xception-diabetic-retinopathy.h5')"
      ],
      "metadata": {
        "id": "zXHOoKU5YPha"
      },
      "execution_count": null,
      "outputs": []
    }
  ]
}